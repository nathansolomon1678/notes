{
 "cells": [
  {
   "cell_type": "code",
   "execution_count": 1,
   "id": "7cf7bce9",
   "metadata": {},
   "outputs": [
    {
     "name": "stdout",
     "output_type": "stream",
     "text": [
      "Requirement already satisfied: qutip-qip in /home/nathan/anaconda3/lib/python3.9/site-packages (0.4.0)\n",
      "Requirement already satisfied: qutip>=4.6 in /home/nathan/anaconda3/lib/python3.9/site-packages (from qutip-qip) (5.0.4)\n",
      "Requirement already satisfied: numpy>=1.16.6 in /home/nathan/anaconda3/lib/python3.9/site-packages (from qutip-qip) (1.26.4)\n",
      "Requirement already satisfied: scipy>=1.0 in /home/nathan/anaconda3/lib/python3.9/site-packages (from qutip-qip) (1.13.1)\n",
      "Requirement already satisfied: packaging in /home/nathan/anaconda3/lib/python3.9/site-packages (from qutip-qip) (21.0)\n",
      "Requirement already satisfied: pyparsing>=2.0.2 in /home/nathan/anaconda3/lib/python3.9/site-packages (from packaging->qutip-qip) (3.0.4)\n"
     ]
    }
   ],
   "source": [
    "!pip install qutip-qip"
   ]
  },
  {
   "cell_type": "code",
   "execution_count": 2,
   "id": "b6c1a15a",
   "metadata": {},
   "outputs": [],
   "source": [
    "import qutip as qt\n",
    "from qutip_qip.circuit import QubitCircuit\n",
    "import matplotlib.pyplot as plt\n",
    "import numpy as np"
   ]
  },
  {
   "cell_type": "code",
   "execution_count": null,
   "id": "1fda98f1",
   "metadata": {},
   "outputs": [],
   "source": []
  }
 ],
 "metadata": {
  "kernelspec": {
   "display_name": "Python 3 (ipykernel)",
   "language": "python",
   "name": "python3"
  },
  "language_info": {
   "codemirror_mode": {
    "name": "ipython",
    "version": 3
   },
   "file_extension": ".py",
   "mimetype": "text/x-python",
   "name": "python",
   "nbconvert_exporter": "python",
   "pygments_lexer": "ipython3",
   "version": "3.9.7"
  }
 },
 "nbformat": 4,
 "nbformat_minor": 5
}
